{
  "nbformat": 4,
  "nbformat_minor": 0,
  "metadata": {
    "colab": {
      "provenance": [],
      "include_colab_link": true
    },
    "kernelspec": {
      "name": "python3",
      "display_name": "Python 3"
    }
  },
  "cells": [
    {
      "cell_type": "markdown",
      "metadata": {
        "id": "view-in-github",
        "colab_type": "text"
      },
      "source": [
        "<a href=\"https://colab.research.google.com/github/chaitu713/data-analysis-bootcamp/blob/master/1.Python-Crash-Course.ipynb\" target=\"_parent\"><img src=\"https://colab.research.google.com/assets/colab-badge.svg\" alt=\"Open In Colab\"/></a>"
      ]
    },
    {
      "cell_type": "markdown",
      "metadata": {
        "id": "bRxmqZOhWY87"
      },
      "source": [
        "# Python Beginners Tutorial\n",
        "\n"
      ]
    },
    {
      "cell_type": "markdown",
      "metadata": {
        "id": "zimA9OEsXOLW"
      },
      "source": [
        "### Let's start with Simple Variables\n",
        "\n",
        "**Variables** can be considered a container that holds or stores a peice of **information** from numbers to text. \n"
      ]
    },
    {
      "cell_type": "code",
      "metadata": {
        "id": "pV1YfnLSXOq6",
        "outputId": "8213c1a5-ca73-4a55-e188-f628faa593e4",
        "colab": {
          "base_uri": "https://localhost:8080/"
        }
      },
      "source": [
        "# Storing a number\n",
        "a = 14\n",
        "print(a)"
      ],
      "execution_count": 1,
      "outputs": [
        {
          "output_type": "stream",
          "name": "stdout",
          "text": [
            "14\n"
          ]
        }
      ]
    },
    {
      "cell_type": "code",
      "metadata": {
        "id": "DkD4O1acWix8",
        "outputId": "f29de91e-8b6d-4395-8fe0-598b2330261d",
        "colab": {
          "base_uri": "https://localhost:8080/"
        }
      },
      "source": [
        "# Or text\n",
        "b = \"This is some text\"\n",
        "print(b)"
      ],
      "execution_count": 2,
      "outputs": [
        {
          "output_type": "stream",
          "name": "stdout",
          "text": [
            "This is some text\n"
          ]
        }
      ]
    },
    {
      "cell_type": "markdown",
      "metadata": {
        "id": "R0QT0wxIXggf"
      },
      "source": [
        "### What can we do with variables?"
      ]
    },
    {
      "cell_type": "code",
      "metadata": {
        "id": "eEqpciAiXjCZ",
        "outputId": "6c9f2593-9a5a-4c20-e20e-7448a3173568",
        "colab": {
          "base_uri": "https://localhost:8080/"
        }
      },
      "source": [
        "# Let's add them together\n",
        "a = 14\n",
        "c = 3\n",
        "d = a + c\n",
        "print(d)"
      ],
      "execution_count": 3,
      "outputs": [
        {
          "output_type": "stream",
          "name": "stdout",
          "text": [
            "17\n"
          ]
        }
      ]
    },
    {
      "cell_type": "code",
      "metadata": {
        "id": "d9w3MZg-XMqt",
        "outputId": "4e0e251b-ded7-48c4-9d6e-ae11527f7002",
        "colab": {
          "base_uri": "https://localhost:8080/"
        }
      },
      "source": [
        "# Or\n",
        "print(a+c)"
      ],
      "execution_count": 4,
      "outputs": [
        {
          "output_type": "stream",
          "name": "stdout",
          "text": [
            "17\n"
          ]
        }
      ]
    },
    {
      "cell_type": "code",
      "metadata": {
        "id": "pPUxe1beWcDX",
        "outputId": "c14268fb-3639-4120-d1ed-a01dc0e68794",
        "colab": {
          "base_uri": "https://localhost:8080/"
        }
      },
      "source": [
        "# Can we change variable values?\n",
        "a = 18\n",
        "print(a)"
      ],
      "execution_count": 5,
      "outputs": [
        {
          "output_type": "stream",
          "name": "stdout",
          "text": [
            "18\n"
          ]
        }
      ]
    },
    {
      "cell_type": "code",
      "metadata": {
        "id": "ZYe3vqeQXznr",
        "outputId": "a43bfe9a-8217-4f7f-ca38-9fc354f005cf",
        "colab": {
          "base_uri": "https://localhost:8080/"
        }
      },
      "source": [
        "# Equating or copying variables\n",
        "e = a\n",
        "print(e)"
      ],
      "execution_count": 6,
      "outputs": [
        {
          "output_type": "stream",
          "name": "stdout",
          "text": [
            "18\n"
          ]
        }
      ]
    },
    {
      "cell_type": "code",
      "metadata": {
        "id": "jzgNJ_MLX8a3",
        "outputId": "1eb4a002-a6f0-4187-8311-f2605153f413",
        "colab": {
          "base_uri": "https://localhost:8080/"
        }
      },
      "source": [
        "# Types of Variables\n",
        "\n",
        "# Integer variable\n",
        "a = 1\n",
        "print(a)\n",
        "print(type(a))\n",
        "\n",
        "# Float variable (Non integer digits)\n",
        "a = 5.0\n",
        "print(a)\n",
        "print(type(a))\n",
        "\n",
        "# Boolean variable (True or False)\n",
        "a = True\n",
        "print(a)\n",
        "print(type(a))\n",
        "\n",
        "# Text variable also known as string variables\n",
        "a = \"7\" \n",
        "print(a)\n",
        "print(type(a))"
      ],
      "execution_count": 7,
      "outputs": [
        {
          "output_type": "stream",
          "name": "stdout",
          "text": [
            "1\n",
            "<class 'int'>\n",
            "5.0\n",
            "<class 'float'>\n",
            "True\n",
            "<class 'bool'>\n",
            "7\n",
            "<class 'str'>\n"
          ]
        }
      ]
    },
    {
      "cell_type": "code",
      "metadata": {
        "id": "fzBecq7OYWl1",
        "outputId": "4029bcd1-fbb0-42ae-a1cc-5a852466abf4",
        "colab": {
          "base_uri": "https://localhost:8080/"
        }
      },
      "source": [
        "# Be careful with variable operations \n",
        "\n",
        "x = 15\n",
        "y = 4\n",
        "z = x + y\n",
        "print(z)\n",
        "print(type(z))\n",
        "\n",
        "# string variables\n",
        "x = \"1\"\n",
        "y = \"2\"\n",
        "z = x + y # string concatenation\n",
        "print(z)\n",
        "print(type(z))"
      ],
      "execution_count": 9,
      "outputs": [
        {
          "output_type": "stream",
          "name": "stdout",
          "text": [
            "19\n",
            "<class 'int'>\n",
            "12\n",
            "<class 'str'>\n"
          ]
        }
      ]
    },
    {
      "cell_type": "markdown",
      "metadata": {
        "id": "WDOkE_pGY8j_"
      },
      "source": [
        "### Array or List Variables\n",
        "**Arrays or Lists** are extremely useful in programming. Think of them as containers with different compartment, where each compartment stores another variable."
      ]
    },
    {
      "cell_type": "code",
      "metadata": {
        "id": "ePI9jV8gZP3Y",
        "outputId": "c07b668a-9647-4bdd-86ee-ce80aa8f0d60",
        "colab": {
          "base_uri": "https://localhost:8080/"
        }
      },
      "source": [
        "# A Simple array or integers\n",
        "a = [1,2,3]\n",
        "print(a)"
      ],
      "execution_count": 10,
      "outputs": [
        {
          "output_type": "stream",
          "name": "stdout",
          "text": [
            "[1, 2, 3]\n"
          ]
        }
      ]
    },
    {
      "cell_type": "code",
      "metadata": {
        "id": "2CEfuPglZDex",
        "outputId": "a0ecc798-423c-4e5a-9e31-f4825b54bac3",
        "colab": {
          "base_uri": "https://localhost:8080/"
        }
      },
      "source": [
        "# Storing variables of different types is possible\n",
        "b =  [\"Text\", 4, 2.5]\n",
        "print(b)"
      ],
      "execution_count": 11,
      "outputs": [
        {
          "output_type": "stream",
          "name": "stdout",
          "text": [
            "['Text', 4, 2.5]\n"
          ]
        }
      ]
    },
    {
      "cell_type": "code",
      "metadata": {
        "id": "pYkAvDCSYuXy",
        "outputId": "d601b675-7e7f-45df-b357-2b57af9eddd4",
        "colab": {
          "base_uri": "https://localhost:8080/"
        }
      },
      "source": [
        "# Indexing Lists or accessing specific variables/locations in the list\n",
        "\n",
        "# How to print the first element?\n",
        "print(a[0])\n",
        "print(a[1])\n",
        "print(a[2])\n",
        "# Note lists always start at index or position 0, so a list that holds 3 numbers can be indexed with 0,1 & 2"
      ],
      "execution_count": 12,
      "outputs": [
        {
          "output_type": "stream",
          "name": "stdout",
          "text": [
            "1\n",
            "2\n",
            "3\n"
          ]
        }
      ]
    },
    {
      "cell_type": "code",
      "metadata": {
        "id": "r2yL5VOMZ2xA",
        "outputId": "67b0ee21-b25b-45ab-a078-8056fe690126",
        "colab": {
          "base_uri": "https://localhost:8080/"
        }
      },
      "source": [
        "# Storing more elements onto your list using *apend*\n",
        "\n",
        "a.append(4)\n",
        "print(a)"
      ],
      "execution_count": 13,
      "outputs": [
        {
          "output_type": "stream",
          "name": "stdout",
          "text": [
            "[1, 2, 3, 4]\n"
          ]
        }
      ]
    },
    {
      "cell_type": "code",
      "metadata": {
        "id": "PkLqatC9Z9b1",
        "outputId": "1ae5ba11-2a8a-4c5b-8c39-c68470863b32",
        "colab": {
          "base_uri": "https://localhost:8080/"
        }
      },
      "source": [
        "# Getting our list length\n",
        "print(len(a))"
      ],
      "execution_count": 14,
      "outputs": [
        {
          "output_type": "stream",
          "name": "stdout",
          "text": [
            "4\n"
          ]
        }
      ]
    },
    {
      "cell_type": "code",
      "metadata": {
        "id": "8YqFs7x7aFiJ",
        "outputId": "16ddcce7-3d77-4e1a-a06d-b6d5573f9bab",
        "colab": {
          "base_uri": "https://localhost:8080/"
        }
      },
      "source": [
        "# Changing the value of an element in a list\n",
        "\n",
        "a[3] = 5\n",
        "print(a)"
      ],
      "execution_count": 15,
      "outputs": [
        {
          "output_type": "stream",
          "name": "stdout",
          "text": [
            "[1, 2, 3, 5]\n"
          ]
        }
      ]
    },
    {
      "cell_type": "code",
      "metadata": {
        "id": "ASXqbJojaNcI",
        "outputId": "af3ba9ce-04f8-40c5-fe8c-6c5b2525f4e8",
        "colab": {
          "base_uri": "https://localhost:8080/"
        }
      },
      "source": [
        "# Slicing lists is a technique used to get elements from, before or between different indices\n",
        "\n",
        "print(\"All elelemts: \", a[:])\n",
        "print(\"All elements from the 3rd position onward: \", a[2:])\n",
        "print(\"All elements between the 2nd and 4th position: \", a[1:3])\n",
        "print(\"All elements before the last postion\", a[:-1])\n",
        "\n",
        "# Very useful guide:\n",
        "\n",
        "#a[start:stop]  # items start through stop-1\n",
        "#a[start:]      # items start through the rest of the array\n",
        "#a[:stop]       # items from the beginning through stop-1\n",
        "#a[:]           # a copy of the whole array"
      ],
      "execution_count": 16,
      "outputs": [
        {
          "output_type": "stream",
          "name": "stdout",
          "text": [
            "All elelemts:  [1, 2, 3, 5]\n",
            "All elements from the 3rd position onward:  [3, 5]\n",
            "All elements between the 2nd and 4th position:  [2, 3]\n",
            "All elements before the last postion [1, 2, 3]\n"
          ]
        }
      ]
    },
    {
      "cell_type": "markdown",
      "metadata": {
        "id": "X4TL4IY0dwpL"
      },
      "source": [
        "## Dictionaries, the other very useful data type\n",
        "**Dictionaries** are python objects that store **key:value** pairs of data."
      ]
    },
    {
      "cell_type": "code",
      "metadata": {
        "id": "QK9owVwta_vz",
        "outputId": "b3c07e39-8315-43ed-b9d2-dd32adfcd916",
        "colab": {
          "base_uri": "https://localhost:8080/"
        }
      },
      "source": [
        "# Creating a dictionary\n",
        "country_info = {\"name\": \"Japan\",\n",
        "        \"capital\": \"Tokyo\"}\n",
        "\n",
        "print(country_info)\n",
        "print(country_info[\"name\"])\n",
        "print(country_info[\"capital\"])"
      ],
      "execution_count": 17,
      "outputs": [
        {
          "output_type": "stream",
          "name": "stdout",
          "text": [
            "{'name': 'Japan', 'capital': 'Tokyo'}\n",
            "Japan\n",
            "Tokyo\n"
          ]
        }
      ]
    },
    {
      "cell_type": "code",
      "metadata": {
        "id": "D57XXUTFeoA2",
        "outputId": "a25bb580-ba48-4c20-8f4d-a151d0e58929",
        "colab": {
          "base_uri": "https://localhost:8080/"
        }
      },
      "source": [
        "# We can store multiple values and easily add information to our dictionary\n",
        "\n",
        "country_info['population'] = '126.8M'\n",
        "print(country_info)"
      ],
      "execution_count": 18,
      "outputs": [
        {
          "output_type": "stream",
          "name": "stdout",
          "text": [
            "{'name': 'Japan', 'capital': 'Tokyo', 'population': '126.8M'}\n"
          ]
        }
      ]
    },
    {
      "cell_type": "code",
      "metadata": {
        "id": "-YxNH48re-JW",
        "outputId": "7fe09781-653b-4aff-c6e8-06d8da1ce0bb",
        "colab": {
          "base_uri": "https://localhost:8080/"
        }
      },
      "source": [
        "# We can also change values easily\n",
        "\n",
        "country_info['population'] = '100M'\n",
        "print(country_info)"
      ],
      "execution_count": 19,
      "outputs": [
        {
          "output_type": "stream",
          "name": "stdout",
          "text": [
            "{'name': 'Japan', 'capital': 'Tokyo', 'population': '100M'}\n"
          ]
        }
      ]
    },
    {
      "cell_type": "code",
      "metadata": {
        "id": "EY0CFm0yfMhl",
        "outputId": "5d3bc42d-26c7-4930-db13-e0df5267f6f9",
        "colab": {
          "base_uri": "https://localhost:8080/"
        }
      },
      "source": [
        "# Values can be of any data type\n",
        "\n",
        "country_info['regions'] = ['Hokkaido', 'Tohoku', 'Kanto', 'Chubu', 'Kinki', 'Chugoku', 'Shikoku', 'Kyushu-Okinawa']\n",
        "print(country_info)"
      ],
      "execution_count": 20,
      "outputs": [
        {
          "output_type": "stream",
          "name": "stdout",
          "text": [
            "{'name': 'Japan', 'capital': 'Tokyo', 'population': '100M', 'regions': ['Hokkaido', 'Tohoku', 'Kanto', 'Chubu', 'Kinki', 'Chugoku', 'Shikoku', 'Kyushu-Okinawa']}\n"
          ]
        }
      ]
    },
    {
      "cell_type": "code",
      "metadata": {
        "id": "AvpiV2SRftmu",
        "outputId": "705d1679-1359-4308-9770-f3ec514b612a",
        "colab": {
          "base_uri": "https://localhost:8080/"
        }
      },
      "source": [
        "# Values can be of any data type - Even Dictionaries, these are called nested dictionaries\n",
        "\n",
        "country_info['health'] = {\"life_expectancy\": 84.1, \"birth_rate\": 1.44}\n",
        "print(country_info)"
      ],
      "execution_count": 21,
      "outputs": [
        {
          "output_type": "stream",
          "name": "stdout",
          "text": [
            "{'name': 'Japan', 'capital': 'Tokyo', 'population': '100M', 'regions': ['Hokkaido', 'Tohoku', 'Kanto', 'Chubu', 'Kinki', 'Chugoku', 'Shikoku', 'Kyushu-Okinawa'], 'health': {'life_expectancy': 84.1, 'birth_rate': 1.44}}\n"
          ]
        }
      ]
    },
    {
      "cell_type": "code",
      "metadata": {
        "id": "TDCk7sg2dK1p",
        "colab": {
          "base_uri": "https://localhost:8080/"
        },
        "outputId": "9f1a3a6f-a7a5-4b98-c35a-c3a0a4efce19"
      },
      "source": [
        "from pprint import pprint #pprint -> pretty-print\n",
        "\n",
        "pprint(country_info)"
      ],
      "execution_count": 24,
      "outputs": [
        {
          "output_type": "stream",
          "name": "stdout",
          "text": [
            "{'capital': 'Tokyo',\n",
            " 'health': {'birth_rate': 1.44, 'life_expectancy': 84.1},\n",
            " 'name': 'Japan',\n",
            " 'population': '100M',\n",
            " 'regions': ['Hokkaido',\n",
            "             'Tohoku',\n",
            "             'Kanto',\n",
            "             'Chubu',\n",
            "             'Kinki',\n",
            "             'Chugoku',\n",
            "             'Shikoku',\n",
            "             'Kyushu-Okinawa']}\n"
          ]
        }
      ]
    },
    {
      "cell_type": "code",
      "metadata": {
        "id": "wYaLR6ALgnIq",
        "outputId": "5bbe7a2a-1c50-490b-c037-37c834fc37b2",
        "colab": {
          "base_uri": "https://localhost:8080/"
        }
      },
      "source": [
        "# Accessing data in our nested dictionary\n",
        "\n",
        "country_info['health']['life_expectancy']"
      ],
      "execution_count": 25,
      "outputs": [
        {
          "output_type": "execute_result",
          "data": {
            "text/plain": [
              "84.1"
            ]
          },
          "metadata": {},
          "execution_count": 25
        }
      ]
    },
    {
      "cell_type": "code",
      "metadata": {
        "id": "J1xtocJrdsbj",
        "colab": {
          "base_uri": "https://localhost:8080/"
        },
        "outputId": "0e7f4a29-1115-481d-a271-f744b18d774e"
      },
      "source": [
        "country_info.values()"
      ],
      "execution_count": 26,
      "outputs": [
        {
          "output_type": "execute_result",
          "data": {
            "text/plain": [
              "dict_values(['Japan', 'Tokyo', '100M', ['Hokkaido', 'Tohoku', 'Kanto', 'Chubu', 'Kinki', 'Chugoku', 'Shikoku', 'Kyushu-Okinawa'], {'life_expectancy': 84.1, 'birth_rate': 1.44}])"
            ]
          },
          "metadata": {},
          "execution_count": 26
        }
      ]
    },
    {
      "cell_type": "markdown",
      "metadata": {
        "id": "tBMyCaI4gzu9"
      },
      "source": [
        "# Conditional Statements - If & Else\n",
        "\n",
        "If statements will prove invaluable in programming when handling siutations where decisions need to be made"
      ]
    },
    {
      "cell_type": "code",
      "metadata": {
        "id": "p180-t79gtHU",
        "outputId": "e9c7900b-3aa2-4ce2-8b83-3e75dcc0ff13",
        "colab": {
          "base_uri": "https://localhost:8080/"
        }
      },
      "source": [
        "# Using the if statement\n",
        "\n",
        "x = 19\n",
        "\n",
        "if x < 10:\n",
        "    print(\"less than 10\")\n",
        "else:\n",
        "  print(\"over 10\")"
      ],
      "execution_count": 27,
      "outputs": [
        {
          "output_type": "stream",
          "name": "stdout",
          "text": [
            "over 10\n"
          ]
        }
      ]
    },
    {
      "cell_type": "code",
      "metadata": {
        "id": "dFFVcDaAhuhn",
        "outputId": "b4a380a0-3738-414f-ac8a-e7715ffb655a",
        "colab": {
          "base_uri": "https://localhost:8080/"
        }
      },
      "source": [
        "x = 29\n",
        "\n",
        "if x < 10:\n",
        "    print(\"less than 10\")\n",
        "elif x > 10 and x <= 19:\n",
        "    print(\"greater than zero but less than 10\")\n",
        "else:\n",
        "    print(\"over 20\")"
      ],
      "execution_count": 28,
      "outputs": [
        {
          "output_type": "stream",
          "name": "stdout",
          "text": [
            "over 20\n"
          ]
        }
      ]
    },
    {
      "cell_type": "code",
      "metadata": {
        "id": "NQv4SZENhgLV",
        "outputId": "4e36803c-8f22-47d7-c6e6-ad9a433c31ea",
        "colab": {
          "base_uri": "https://localhost:8080/"
        }
      },
      "source": [
        "# Using booleans of conditional statements\n",
        "\n",
        "a = True\n",
        "if a:\n",
        "  print(\"statement was true\")"
      ],
      "execution_count": 29,
      "outputs": [
        {
          "output_type": "stream",
          "name": "stdout",
          "text": [
            "statement was true\n"
          ]
        }
      ]
    },
    {
      "cell_type": "markdown",
      "metadata": {
        "id": "kLg-FVSMiall"
      },
      "source": [
        "# Loops\n",
        "\n",
        "Loops are another invaluable tool in programming, let's look at a few ways we can implement loops in Python"
      ]
    },
    {
      "cell_type": "code",
      "metadata": {
        "id": "ZZ5ogCPfiYI6",
        "outputId": "1ff5ded4-a6c4-44ac-84b2-8c9bfb5204bf",
        "colab": {
          "base_uri": "https://localhost:8080/"
        }
      },
      "source": [
        "# Using the range function\n",
        "\n",
        "print(list(range(5)))\n",
        "\n",
        "# Or\n",
        "\n",
        "print(list(range(1,5)))"
      ],
      "execution_count": 30,
      "outputs": [
        {
          "output_type": "stream",
          "name": "stdout",
          "text": [
            "[0, 1, 2, 3, 4]\n",
            "[1, 2, 3, 4]\n"
          ]
        }
      ]
    },
    {
      "cell_type": "code",
      "metadata": {
        "id": "JBU80c3oipiM",
        "outputId": "5450f8a2-46f7-4bfd-ccdd-a313fe693c8e",
        "colab": {
          "base_uri": "https://localhost:8080/"
        }
      },
      "source": [
        "for i in range(0,5):\n",
        "  print(i)"
      ],
      "execution_count": 31,
      "outputs": [
        {
          "output_type": "stream",
          "name": "stdout",
          "text": [
            "0\n",
            "1\n",
            "2\n",
            "3\n",
            "4\n"
          ]
        }
      ]
    },
    {
      "cell_type": "code",
      "metadata": {
        "id": "5M3Hw2J_i9Rr",
        "outputId": "59262428-fdcf-4daf-f6bd-46552181a763",
        "colab": {
          "base_uri": "https://localhost:8080/"
        }
      },
      "source": [
        "# Python allows us to directly loop through items in a list\n",
        "\n",
        "items = ['a','b', 'c', 'd']\n",
        "for item in items:\n",
        "  print(item)"
      ],
      "execution_count": 32,
      "outputs": [
        {
          "output_type": "stream",
          "name": "stdout",
          "text": [
            "a\n",
            "b\n",
            "c\n",
            "d\n"
          ]
        }
      ]
    },
    {
      "cell_type": "code",
      "metadata": {
        "id": "RLmP9dWPjpho",
        "outputId": "98af3eb7-b99d-4d6a-88ad-a914006dbc2d",
        "colab": {
          "base_uri": "https://localhost:8080/"
        }
      },
      "source": [
        "# Incrementing variables in loops and storing them in a list\n",
        "\n",
        "x = 0\n",
        "collecting_values_of_x = []\n",
        "\n",
        "items = ['a','b', 'c', 'd']\n",
        "for item in items:\n",
        "  x += 1\n",
        "  print(x, item)\n",
        "  collecting_values_of_x.append(x)\n",
        "\n",
        "print(collecting_values_of_x)"
      ],
      "execution_count": 33,
      "outputs": [
        {
          "output_type": "stream",
          "name": "stdout",
          "text": [
            "1 a\n",
            "2 b\n",
            "3 c\n",
            "4 d\n",
            "[1, 2, 3, 4]\n"
          ]
        }
      ]
    },
    {
      "cell_type": "code",
      "metadata": {
        "id": "m7PHFl_9jZOY",
        "outputId": "16a4a490-1447-4186-e1db-237791ff2df5",
        "colab": {
          "base_uri": "https://localhost:8080/"
        }
      },
      "source": [
        "# While loops\n",
        "\n",
        "x = 0\n",
        "while x < 5:\n",
        "    x += 1\n",
        "    print(x)"
      ],
      "execution_count": 37,
      "outputs": [
        {
          "output_type": "stream",
          "name": "stdout",
          "text": [
            "1\n",
            "2\n",
            "3\n",
            "4\n",
            "5\n"
          ]
        }
      ]
    },
    {
      "cell_type": "code",
      "metadata": {
        "id": "QV9S4x-xkEWW",
        "outputId": "a8418fb6-dec7-4030-ccb0-8160431c914b",
        "colab": {
          "base_uri": "https://localhost:8080/"
        }
      },
      "source": [
        "# While loops\n",
        "\n",
        "x = 0\n",
        "while True:\n",
        "    if x == 5:\n",
        "      break\n",
        "    x += 1\n",
        "    print(x)"
      ],
      "execution_count": 38,
      "outputs": [
        {
          "output_type": "stream",
          "name": "stdout",
          "text": [
            "1\n",
            "2\n",
            "3\n",
            "4\n",
            "5\n"
          ]
        }
      ]
    },
    {
      "cell_type": "markdown",
      "metadata": {
        "id": "x7i46vgQkvJs"
      },
      "source": [
        "# Functions\n",
        "\n",
        "Functions are extremely useful in creating peices of code you want to call or use several times in our program."
      ]
    },
    {
      "cell_type": "code",
      "metadata": {
        "id": "Jt_UfXekkVBG"
      },
      "source": [
        "# Simple function to return area of a circle\n",
        "\n",
        "def areaCircle(radius):\n",
        "  area = 3.14 * (radius**2)\n",
        "  return area"
      ],
      "execution_count": 39,
      "outputs": []
    },
    {
      "cell_type": "code",
      "metadata": {
        "id": "GLyvb1VplEDr",
        "outputId": "333bd6a6-88b3-47fd-f739-11464ddebf1e",
        "colab": {
          "base_uri": "https://localhost:8080/"
        }
      },
      "source": [
        "areaCircle(2)"
      ],
      "execution_count": 40,
      "outputs": [
        {
          "output_type": "execute_result",
          "data": {
            "text/plain": [
              "12.56"
            ]
          },
          "metadata": {},
          "execution_count": 40
        }
      ]
    },
    {
      "cell_type": "code",
      "metadata": {
        "id": "QtzNLj7FlFz4"
      },
      "source": [
        "# More complicated functions\n",
        "\n",
        "def volumeCylinder(radius, height):\n",
        "  volume = 3.14 * radius**2 * height\n",
        "  return volume"
      ],
      "execution_count": 41,
      "outputs": []
    },
    {
      "cell_type": "code",
      "metadata": {
        "id": "OGYfKiqdv-Ma",
        "outputId": "f171d080-cac9-41b1-91d6-1c0591c33bf9",
        "colab": {
          "base_uri": "https://localhost:8080/"
        }
      },
      "source": [
        "volumeCylinder(radius = 5, height = 6)"
      ],
      "execution_count": 42,
      "outputs": [
        {
          "output_type": "execute_result",
          "data": {
            "text/plain": [
              "471.0"
            ]
          },
          "metadata": {},
          "execution_count": 42
        }
      ]
    },
    {
      "cell_type": "code",
      "metadata": {
        "id": "swh6MO3plI0b"
      },
      "source": [
        "# Default arguements\n",
        "\n",
        "def areaCircle(radius):\n",
        "  area = 3.14 * (radius**2)\n",
        "  return area"
      ],
      "execution_count": 43,
      "outputs": []
    },
    {
      "cell_type": "code",
      "metadata": {
        "id": "mcvf8QWQog50"
      },
      "source": [
        "# Creating a class\n",
        "class Book(object):\n",
        "    \"\"\"Class object for a book\"\"\"\n",
        "  \n",
        "    def __init__(self, title, author):\n",
        "        \"\"\"Initialize a new Book\"\"\"\n",
        "        self.title = title\n",
        "        self.author = author"
      ],
      "execution_count": 44,
      "outputs": []
    },
    {
      "cell_type": "code",
      "source": [
        "my_book = Book(title = \"This is a Good Book\", author = \"Rajeev Ratan\")"
      ],
      "metadata": {
        "id": "60s0r3PRlD95"
      },
      "execution_count": 45,
      "outputs": []
    },
    {
      "cell_type": "code",
      "source": [
        "my_book"
      ],
      "metadata": {
        "colab": {
          "base_uri": "https://localhost:8080/"
        },
        "id": "gvUhdfvrlgZj",
        "outputId": "8a30990a-9108-4ed1-fe45-f5f60766bcac"
      },
      "execution_count": 46,
      "outputs": [
        {
          "output_type": "execute_result",
          "data": {
            "text/plain": [
              "<__main__.Book at 0x7f999abd1970>"
            ]
          },
          "metadata": {},
          "execution_count": 46
        }
      ]
    },
    {
      "cell_type": "code",
      "source": [
        "my_book.author, my_book.title"
      ],
      "metadata": {
        "colab": {
          "base_uri": "https://localhost:8080/"
        },
        "id": "Lccn29DoljC2",
        "outputId": "7e375d77-6906-4090-d441-d22737e8028b"
      },
      "execution_count": 47,
      "outputs": [
        {
          "output_type": "execute_result",
          "data": {
            "text/plain": [
              "('Rajeev Ratan', 'This is a Good Book')"
            ]
          },
          "metadata": {},
          "execution_count": 47
        }
      ]
    },
    {
      "cell_type": "code",
      "source": [],
      "metadata": {
        "id": "gqN38jrtlm_j"
      },
      "execution_count": null,
      "outputs": []
    }
  ]
}